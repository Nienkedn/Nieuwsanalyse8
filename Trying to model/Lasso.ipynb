{
 "cells": [
  {
   "cell_type": "code",
   "execution_count": null,
   "metadata": {},
   "outputs": [],
   "source": [
    "import pandas as pd\n",
    "\n",
    "from matplotlib import pyplot as plt\n",
    "\n",
    "from sklearn.preprocessing import OneHotEncoder\n",
    "\n",
    "from sklearn.linear_model import LinearRegression\n",
    "\n",
    "import warnings\n",
    "\n",
    "import csv\n",
    "\n",
    "import datetime\n",
    "\n",
    "\n",
    "\n",
    "warnings.filterwarnings('ignore')\n",
    "\n",
    "pd.plotting.register_matplotlib_converters()"
   ]
  },
  {
   "cell_type": "code",
   "execution_count": null,
   "metadata": {
    "scrolled": true
   },
   "outputs": [],
   "source": [
    "df = pd.read_csv('data2.csv', parse_dates=['Timestamp'], encoding = 'utf-16')\n",
    "\n",
    "df.head()"
   ]
  },
  {
   "cell_type": "code",
   "execution_count": null,
   "metadata": {
    "scrolled": true
   },
   "outputs": [],
   "source": [
    "df['Timestamp']= pd.to_datetime(df['Timestamp'], unit='s')\n",
    "\n",
    "df.head()"
   ]
  },
  {
   "cell_type": "code",
   "execution_count": null,
   "metadata": {
    "scrolled": true
   },
   "outputs": [],
   "source": [
    "# load data\n",
    "\n",
    "\n",
    "3\n",
    "\n",
    "\n",
    "# remove outlier record\n",
    "\n",
    "df = df.loc[df['Timestamp'] > '2007-01-01']\n",
    "\n",
    "# FEATURE EXTRACTION\n",
    "\n",
    "# month, for seasonality\n",
    "df['month'] = 0\n",
    "df['month'] = df['Timestamp'].dt.month\n",
    "df['year'] = df['Timestamp'].dt.year\n",
    "\n",
    "# days_since_first, for trend\n",
    "df['days_since_first'] = 0\n",
    "df['days_since_first'] = (df['Timestamp'] - min(df['Timestamp'])).dt.days\n",
    "\n",
    "\n",
    "\n",
    "# create test design\n",
    "\n",
    "train_filter = df['Timestamp'] < '2017-08-01'\n",
    "\n",
    "df_train = df[train_filter]\n",
    "\n",
    "df_test = df[~train_filter]\n",
    "print(df_test)"
   ]
  },
  {
   "cell_type": "code",
   "execution_count": null,
   "metadata": {},
   "outputs": [],
   "source": [
    "df.info()"
   ]
  },
  {
   "cell_type": "code",
   "execution_count": null,
   "metadata": {
    "scrolled": true
   },
   "outputs": [],
   "source": [
    "print(df_train.count(), df_test.count())"
   ]
  },
  {
   "cell_type": "code",
   "execution_count": null,
   "metadata": {
    "scrolled": true
   },
   "outputs": [],
   "source": [
    "# select features\n",
    "\n",
    "# one-hot-encode month, to let the linear model recognize monthly seasonality\n",
    "\n",
    "# features = ['month']\n",
    "\n",
    "# ohe = OneHotEncoder(categorical_features=[0])\n",
    "\n",
    "# x_train = ohe.fit_transform(df_train[features].astype(int))\n",
    "\n",
    "# x_test = ohe.transform(df_test[features].astype(int))\n",
    "\n",
    "\n",
    "\n",
    "# define targets\n",
    "\n",
    "target = 'Polarity'\n",
    "\n",
    "y_train = df_train[target]\n",
    "\n",
    "y_test = df_test[target]\n",
    "\n",
    "\n",
    "\n",
    "# # fit and aply linear regression model\n",
    "import numpy as np\n",
    "\n",
    "x_train = np.column_stack((df_train['month'], df_train['Subjectivity'])).astype(int)\n",
    "x_test = np.column_stack((df_test['month'], df_test['Subjectivity'])).astype(int)\n",
    "y_test = df_test[target]\n",
    "\n",
    "model = LinearRegression()\n",
    "\n",
    "model.fit(x_train, y_train)\n",
    "\n",
    "pred_train = model.predict(x_train)\n",
    "\n",
    "pred_test = model.predict(x_test)\n",
    "\n",
    "df_test['predictions'] = pred_test\n",
    "\n",
    "df_test.head()"
   ]
  },
  {
   "cell_type": "code",
   "execution_count": null,
   "metadata": {
    "scrolled": true
   },
   "outputs": [],
   "source": [
    "df.corr()"
   ]
  },
  {
   "cell_type": "code",
   "execution_count": null,
   "metadata": {
    "scrolled": true
   },
   "outputs": [],
   "source": [
    "# plt.plot(df_train['Timestamp'], pred_train, label='train predictions', linestyle='--', color='blue')\n",
    "\n",
    "# plt.plot(df_train['Timestamp'], y_train, label='train actuals', linestyle='-', color='blue'\n",
    "\n",
    "plt.scatter( df_test['month'], y_test,label='test actuals', linestyle='-', color='red')\n",
    "\n",
    "#plt.plot( df_test['month'], pred_test, label='test predictions', linestyle='--', color='blue')\n",
    "\n",
    "plt.legend(loc='upper left', bbox_to_anchor=(1,1))\n",
    "\n",
    "plt.xticks(rotation=30)\n",
    "\n",
    "plt.ylabel(target)\n",
    "\n",
    "plt.show()\n"
   ]
  },
  {
   "cell_type": "code",
   "execution_count": null,
   "metadata": {},
   "outputs": [],
   "source": [
    "from sklearn.metrics import r2_score\n",
    "model.coef_\n",
    "\n",
    "r2_score(df_test['Polarity'], pred_test) "
   ]
  },
  {
   "cell_type": "code",
   "execution_count": null,
   "metadata": {},
   "outputs": [],
   "source": []
  }
 ],
 "metadata": {
  "kernelspec": {
   "display_name": "Python 3",
   "language": "python",
   "name": "python3"
  },
  "language_info": {
   "codemirror_mode": {
    "name": "ipython",
    "version": 3
   },
   "file_extension": ".py",
   "mimetype": "text/x-python",
   "name": "python",
   "nbconvert_exporter": "python",
   "pygments_lexer": "ipython3",
   "version": "3.6.8"
  }
 },
 "nbformat": 4,
 "nbformat_minor": 2
}
