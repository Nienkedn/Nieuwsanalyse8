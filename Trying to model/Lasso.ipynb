{
 "cells": [
  {
   "cell_type": "code",
   "execution_count": 16,
   "metadata": {},
   "outputs": [],
   "source": [
    "import pandas as pd\n",
    "\n",
    "from matplotlib import pyplot as plt\n",
    "\n",
    "from sklearn.preprocessing import OneHotEncoder\n",
    "\n",
    "from sklearn.linear_model import LinearRegression\n",
    "\n",
    "import warnings\n",
    "\n",
    "import csv\n",
    "\n",
    "\n",
    "\n",
    "warnings.filterwarnings('ignore')\n",
    "\n",
    "pd.plotting.register_matplotlib_converters()"
   ]
  },
  {
   "cell_type": "code",
   "execution_count": null,
   "metadata": {},
   "outputs": [],
   "source": [
    "# load data\n",
    "\n",
    "df = pd.read_csv('data2.csv', parse_dates=['Timestamp'], encoding = 'utf-16')\n",
    "\n",
    "\n",
    "\n",
    "# remove outlier record\n",
    "\n",
    "df = df['Polarity']\n",
    "\n",
    "\n",
    "\n",
    "# FEATURE EXTRACTION\n",
    "\n",
    "# month, for seasonality\n",
    "\n",
    "df['month'] = df['Timestamp'].dt.month\n",
    "\n",
    "# days_since_first, for trend\n",
    "\n",
    "df['days_since_first'] = (df['Timestamp'] - min(df['Timestamp'])).dt.days\n",
    "\n",
    "\n",
    "\n",
    "# create test design\n",
    "\n",
    "train_filter = df['Timestamp'] < '2015-01-01'\n",
    "\n",
    "df_train = df[train_filter]\n",
    "\n",
    "df_test = df[~train_filter]\n",
    "\n",
    "df_train.head()"
   ]
  },
  {
   "cell_type": "code",
   "execution_count": null,
   "metadata": {},
   "outputs": [],
   "source": []
  }
 ],
 "metadata": {
  "kernelspec": {
   "display_name": "Python 3",
   "language": "python",
   "name": "python3"
  },
  "language_info": {
   "codemirror_mode": {
    "name": "ipython",
    "version": 3
   },
   "file_extension": ".py",
   "mimetype": "text/x-python",
   "name": "python",
   "nbconvert_exporter": "python",
   "pygments_lexer": "ipython3",
   "version": "3.7.2"
  }
 },
 "nbformat": 4,
 "nbformat_minor": 2
}
